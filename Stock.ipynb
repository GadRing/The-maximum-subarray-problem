{
 "cells": [
  {
   "cell_type": "code",
   "execution_count": 51,
   "id": "ca5184cc",
   "metadata": {},
   "outputs": [],
   "source": [
    "import numpy as np\n",
    "import matplotlib.pyplot as plt\n",
    "import pandas as pd\n"
   ]
  },
  {
   "cell_type": "code",
   "execution_count": 52,
   "id": "656f5d16",
   "metadata": {},
   "outputs": [],
   "source": [
    "Volatile_Chemical_Corporation_data = {\n",
    "    \"Day\": [0, 1, 2, 3, 4, 5, 6, 7, 8, 9, 10, 11, 12, 13, 14, 15, 16],\n",
    "    \"Price\": [100, 113, 110, 85, 105, 102, 86, 63, 81, 101, 94, 106, 101, 79, 94, 90, 97],\n",
    "    \"Change\": [0 , 13, -3, -25, 20, -3, -16, -23, 18, 20, -7, 12, -5, -22, 15, -4, 7]\n",
    "}"
   ]
  },
  {
   "cell_type": "code",
   "execution_count": 53,
   "id": "bfa0ad69",
   "metadata": {},
   "outputs": [],
   "source": [
    "data = pd.DataFrame(Volatile_Chemical_Corporation_data)"
   ]
  },
  {
   "cell_type": "code",
   "execution_count": 54,
   "id": "107e7b83",
   "metadata": {},
   "outputs": [
    {
     "data": {
      "text/html": [
       "<div>\n",
       "<style scoped>\n",
       "    .dataframe tbody tr th:only-of-type {\n",
       "        vertical-align: middle;\n",
       "    }\n",
       "\n",
       "    .dataframe tbody tr th {\n",
       "        vertical-align: top;\n",
       "    }\n",
       "\n",
       "    .dataframe thead th {\n",
       "        text-align: right;\n",
       "    }\n",
       "</style>\n",
       "<table border=\"1\" class=\"dataframe\">\n",
       "  <thead>\n",
       "    <tr style=\"text-align: right;\">\n",
       "      <th></th>\n",
       "      <th>Day</th>\n",
       "      <th>Price</th>\n",
       "      <th>Change</th>\n",
       "    </tr>\n",
       "  </thead>\n",
       "  <tbody>\n",
       "    <tr>\n",
       "      <th>0</th>\n",
       "      <td>0</td>\n",
       "      <td>100</td>\n",
       "      <td>0</td>\n",
       "    </tr>\n",
       "    <tr>\n",
       "      <th>1</th>\n",
       "      <td>1</td>\n",
       "      <td>113</td>\n",
       "      <td>13</td>\n",
       "    </tr>\n",
       "    <tr>\n",
       "      <th>2</th>\n",
       "      <td>2</td>\n",
       "      <td>110</td>\n",
       "      <td>-3</td>\n",
       "    </tr>\n",
       "    <tr>\n",
       "      <th>3</th>\n",
       "      <td>3</td>\n",
       "      <td>85</td>\n",
       "      <td>-25</td>\n",
       "    </tr>\n",
       "    <tr>\n",
       "      <th>4</th>\n",
       "      <td>4</td>\n",
       "      <td>105</td>\n",
       "      <td>20</td>\n",
       "    </tr>\n",
       "    <tr>\n",
       "      <th>5</th>\n",
       "      <td>5</td>\n",
       "      <td>102</td>\n",
       "      <td>-3</td>\n",
       "    </tr>\n",
       "    <tr>\n",
       "      <th>6</th>\n",
       "      <td>6</td>\n",
       "      <td>86</td>\n",
       "      <td>-16</td>\n",
       "    </tr>\n",
       "    <tr>\n",
       "      <th>7</th>\n",
       "      <td>7</td>\n",
       "      <td>63</td>\n",
       "      <td>-23</td>\n",
       "    </tr>\n",
       "    <tr>\n",
       "      <th>8</th>\n",
       "      <td>8</td>\n",
       "      <td>81</td>\n",
       "      <td>18</td>\n",
       "    </tr>\n",
       "    <tr>\n",
       "      <th>9</th>\n",
       "      <td>9</td>\n",
       "      <td>101</td>\n",
       "      <td>20</td>\n",
       "    </tr>\n",
       "    <tr>\n",
       "      <th>10</th>\n",
       "      <td>10</td>\n",
       "      <td>94</td>\n",
       "      <td>-7</td>\n",
       "    </tr>\n",
       "    <tr>\n",
       "      <th>11</th>\n",
       "      <td>11</td>\n",
       "      <td>106</td>\n",
       "      <td>12</td>\n",
       "    </tr>\n",
       "    <tr>\n",
       "      <th>12</th>\n",
       "      <td>12</td>\n",
       "      <td>101</td>\n",
       "      <td>-5</td>\n",
       "    </tr>\n",
       "    <tr>\n",
       "      <th>13</th>\n",
       "      <td>13</td>\n",
       "      <td>79</td>\n",
       "      <td>-22</td>\n",
       "    </tr>\n",
       "    <tr>\n",
       "      <th>14</th>\n",
       "      <td>14</td>\n",
       "      <td>94</td>\n",
       "      <td>15</td>\n",
       "    </tr>\n",
       "    <tr>\n",
       "      <th>15</th>\n",
       "      <td>15</td>\n",
       "      <td>90</td>\n",
       "      <td>-4</td>\n",
       "    </tr>\n",
       "    <tr>\n",
       "      <th>16</th>\n",
       "      <td>16</td>\n",
       "      <td>97</td>\n",
       "      <td>7</td>\n",
       "    </tr>\n",
       "  </tbody>\n",
       "</table>\n",
       "</div>"
      ],
      "text/plain": [
       "    Day  Price  Change\n",
       "0     0    100       0\n",
       "1     1    113      13\n",
       "2     2    110      -3\n",
       "3     3     85     -25\n",
       "4     4    105      20\n",
       "5     5    102      -3\n",
       "6     6     86     -16\n",
       "7     7     63     -23\n",
       "8     8     81      18\n",
       "9     9    101      20\n",
       "10   10     94      -7\n",
       "11   11    106      12\n",
       "12   12    101      -5\n",
       "13   13     79     -22\n",
       "14   14     94      15\n",
       "15   15     90      -4\n",
       "16   16     97       7"
      ]
     },
     "execution_count": 54,
     "metadata": {},
     "output_type": "execute_result"
    }
   ],
   "source": [
    "data"
   ]
  },
  {
   "cell_type": "code",
   "execution_count": 55,
   "id": "4589d3ff",
   "metadata": {},
   "outputs": [],
   "source": [
    "Change = np.array(data[\"Change\"])"
   ]
  },
  {
   "cell_type": "code",
   "execution_count": 56,
   "id": "a3dc2f26",
   "metadata": {},
   "outputs": [
    {
     "name": "stdout",
     "output_type": "stream",
     "text": [
      "[  0  13  -3 -25  20  -3 -16 -23  18  20  -7  12  -5 -22  15  -4   7]\n"
     ]
    }
   ],
   "source": [
    "print(Change)"
   ]
  },
  {
   "cell_type": "code",
   "execution_count": 57,
   "id": "f574a774",
   "metadata": {
    "scrolled": false
   },
   "outputs": [
    {
     "data": {
      "image/png": "[encoded data removed]",
      "text/plain": [
       "<Figure size 1080x576 with 1 Axes>"
      ]
     },
     "metadata": {
      "needs_background": "light"
     },
     "output_type": "display_data"
    }
   ],
   "source": [
    "plt.figure(figsize=(15,8))\n",
    "plt.xlabel(\"Values\", size=14)\n",
    "plt.ylabel(\"Price\", size=14)\n",
    "plt.title(\"Volatile Chemical Corporation Stock\", size=15)\n",
    "plt.plot(data[\"Day\"], data[\"Price\"])\n",
    "plt.xticks(data[\"Day\"])\n",
    "plt.grid()\n",
    "\n",
    "plt.show()"
   ]
  },
  {
   "cell_type": "code",
   "execution_count": 58,
   "id": "1261bac4",
   "metadata": {},
   "outputs": [],
   "source": [
    "def find_max_crossing_subarray(array, start, mid, end):\n",
    "   \n",
    "    sum_left = float('-inf')\n",
    "    sum_temp = 0\n",
    "    cross_start = mid\n",
    "    for i in range(mid - 1, start - 1, -1):\n",
    "        sum_temp = sum_temp + array[i]\n",
    "        if sum_temp > sum_left:\n",
    "            sum_left = sum_temp\n",
    "            cross_start = i\n",
    " \n",
    "    sum_right = float('-inf')\n",
    "    sum_temp = 0\n",
    "    cross_end = mid + 1\n",
    "    for i in range(mid, end):\n",
    "        sum_temp = sum_temp + array[i]\n",
    "        if sum_temp > sum_right:\n",
    "            sum_right = sum_temp\n",
    "            cross_end = i + 1\n",
    "    return cross_start, cross_end, sum_left + sum_right"
   ]
  },
  {
   "cell_type": "code",
   "execution_count": 59,
   "id": "e52ab5be",
   "metadata": {},
   "outputs": [],
   "source": [
    "def find_max_subarray(array, start, end):\n",
    "  \n",
    "    # base case\n",
    "    if start == end - 1:\n",
    "        return start, end, array[start]\n",
    "    else:\n",
    "        mid = (start + end)//2\n",
    "        left_start, left_end, left_max = find_max_subarray(array, start, mid)\n",
    "        right_start, right_end, right_max = find_max_subarray(array, mid, end)\n",
    "        cross_start, cross_end, cross_max = find_max_crossing_subarray(array, start, mid, end)\n",
    "        if (left_max > right_max and left_max > cross_max):\n",
    "            return left_start, left_end, left_max\n",
    "        elif (right_max > left_max and right_max > cross_max):\n",
    "            return right_start, right_end, right_max\n",
    "        else:\n",
    "            return cross_start, cross_end, cross_max"
   ]
  },
  {
   "cell_type": "code",
   "execution_count": 60,
   "id": "44f6bc9c",
   "metadata": {},
   "outputs": [
    {
     "name": "stdout",
     "output_type": "stream",
     "text": [
      "The maximum subarray starts at index 8, ends at index 11 and has sum 43.\n"
     ]
    }
   ],
   "source": [
    "array = Change\n",
    "start, end, maximum = find_max_subarray(alist, 0, len(alist))\n",
    "print('The maximum subarray starts at index {}, ends at index {}'\n",
    "      ' and has sum {}.'.format(start, end - 1, maximum))"
   ]
  },
  {
   "cell_type": "code",
   "execution_count": 62,
   "id": "10954c75",
   "metadata": {},
   "outputs": [
    {
     "name": "stdout",
     "output_type": "stream",
     "text": [
      "0      0\n",
      "1     13\n",
      "2     -3\n",
      "3    -25\n",
      "4     20\n",
      "5     -3\n",
      "6    -16\n",
      "7    -23\n",
      "8     18\n",
      "9     20\n",
      "10    -7\n",
      "11    12\n",
      "12    -5\n",
      "13   -22\n",
      "14    15\n",
      "15    -4\n",
      "16     7\n",
      "Name: Change, dtype: int64\n"
     ]
    }
   ],
   "source": [
    "print(data[\"Change\"])"
   ]
  },
  {
   "cell_type": "code",
   "execution_count": null,
   "id": "05cfc820",
   "metadata": {},
   "outputs": [],
   "source": []
  }
 ],
 "metadata": {
  "kernelspec": {
   "display_name": "Python 3 (ipykernel)",
   "language": "python",
   "name": "python3"
  },
  "language_info": {
   "codemirror_mode": {
    "name": "ipython",
    "version": 3
   },
   "file_extension": ".py",
   "mimetype": "text/x-python",
   "name": "python",
   "nbconvert_exporter": "python",
   "pygments_lexer": "ipython3",
   "version": "3.9.12"
  }
 },
 "nbformat": 4,
 "nbformat_minor": 5
}
